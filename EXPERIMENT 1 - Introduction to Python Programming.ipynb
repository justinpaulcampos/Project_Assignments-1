{
 "cells": [
  {
   "cell_type": "markdown",
   "id": "af3b48c2-5acf-4733-983e-02e9767de31b",
   "metadata": {},
   "source": [
    "# EXPERIMENT 1 - Introduction to Python Programming"
   ]
  },
  {
   "cell_type": "markdown",
   "id": "72c20b01-17c8-4f62-bf1c-4f873bf07056",
   "metadata": {},
   "source": [
    "### ALPHABET PROBLEM"
   ]
  },
  {
   "cell_type": "code",
   "execution_count": 79,
   "id": "1f2fa531-4642-4f55-8984-082910824ec9",
   "metadata": {
    "scrolled": true
   },
   "outputs": [
    {
     "name": "stdout",
     "output_type": "stream",
     "text": [
      "ehllo\n",
      "acehkr\n"
     ]
    }
   ],
   "source": [
    "def alphabet_soup(word):\n",
    "    #Initialize variable\n",
    "    new_word = \"\";  lst=[]\n",
    "    #Convert the string to list\n",
    "    lst=list(word)\n",
    "    #Sort the string alphabetically\n",
    "    lst.sort()\n",
    "    #Reconvert the sorted list to a \n",
    "    for x in range(0,len(lst)):\n",
    "        new_word = new_word + lst[x]\n",
    "    #print output\n",
    "    print(new_word)\n",
    "alphabet_soup(\"hello\")\n",
    "alphabet_soup(\"hacker\")"
   ]
  },
  {
   "cell_type": "markdown",
   "id": "5e1ae3d2-70fe-41e0-b204-73081f0cefed",
   "metadata": {},
   "source": [
    "### EMOTICON PROBLEM"
   ]
  },
  {
   "cell_type": "code",
   "execution_count": 78,
   "id": "212a99de-662d-46ba-9320-3e48bc28c40d",
   "metadata": {},
   "outputs": [
    {
     "name": "stdout",
     "output_type": "stream",
     "text": [
      ":) >:( :D :(( :) >:( :D :((\n"
     ]
    }
   ],
   "source": [
    "def emotify(emo):\n",
    "    #initiate dictionary for emotions\n",
    "    emolst = {\"sad\": \":((\",\"mad\": \">:(\",\"grin\": \":D\",\"smile\": \":)\",\"Sad\": \":((\",\"Mad\": \">:(\",\"Grin\": \":D\",\"Smile\": \":)\"}\n",
    "    #replaces the key to their given emoticon\n",
    "    for x in emolst:\n",
    "        emo = emo.replace(x,emolst.get(x))\n",
    "    #print output\n",
    "    print(emo)\n",
    "emotify(\"smile mad grin sad Smile Mad Grin Sad\")"
   ]
  },
  {
   "cell_type": "markdown",
   "id": "698f904f-41b4-4b88-bc61-d1f0cce893c3",
   "metadata": {},
   "source": [
    "### UNPACKING LIST PROBLEM"
   ]
  },
  {
   "cell_type": "code",
   "execution_count": 32,
   "id": "39469ad4-1e72-4fca-be65-9259ba24034d",
   "metadata": {},
   "outputs": [
    {
     "name": "stdout",
     "output_type": "stream",
     "text": [
      "First: 1  Middle: [2, 3, 4, 5]  Last: 6\n"
     ]
    }
   ],
   "source": [
    "#initialize the list\n",
    "lst = [1,2,3,4,5,6]\n",
    "#initialize first value\n",
    "first = lst[0]\n",
    "#initialize the middle list\n",
    "middle = lst[1:len(lst)-1]\n",
    "#initialize the last value\n",
    "last = lst[len(lst)-1]\n",
    "\n",
    "print(\"First:\", first, \" Middle:\", middle, \" Last:\", last,)"
   ]
  }
 ],
 "metadata": {
  "kernelspec": {
   "display_name": "Python [conda env:base] *",
   "language": "python",
   "name": "conda-base-py"
  },
  "language_info": {
   "codemirror_mode": {
    "name": "ipython",
    "version": 3
   },
   "file_extension": ".py",
   "mimetype": "text/x-python",
   "name": "python",
   "nbconvert_exporter": "python",
   "pygments_lexer": "ipython3",
   "version": "3.13.5"
  }
 },
 "nbformat": 4,
 "nbformat_minor": 5
}
